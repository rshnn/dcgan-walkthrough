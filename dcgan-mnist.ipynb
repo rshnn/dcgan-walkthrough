{
 "cells": [
  {
   "cell_type": "markdown",
   "metadata": {},
   "source": [
    "# Generative Modeling "
   ]
  },
  {
   "cell_type": "markdown",
   "metadata": {},
   "source": [
    "**Generative adversarial networks (GANs)** are comprised of two models that are trained simultaneously by an adversarial process.  Assume that we have an unlabeled dataset that follows some distribution.  A generator unit learns to create fake data that resembles this distribution and a discriminator unit learns to distinguish between fake data and real data.    \n",
    "\n",
    "The generator attempts to estimate the distribution of the real data.  Once the GAN is trained, the generator can be used to generate believable fake data.  "
   ]
  },
  {
   "cell_type": "markdown",
   "metadata": {},
   "source": [
    "## GAN Architecture \n",
    "\n",
    "Below is the architecture of a GAN.  In this example, the unlabeled dataset is the MNIST dataset (its the same handwritten digit dataset, we just don't care about the number labels).  The goal of this GAN is to produce images that look like they belong to the MNIST dataset.  \n",
    "\n",
    "![arch](images/gan-arch.png)\n",
    "\n",
    "\n",
    "Below are images produced by a discriminator at various phases during training.  Each image on the grid is given a consistent random seed.  Note that each image eventually develops \"MNIST-like\" metafeatures.   \n",
    "\n",
    "\n",
    "![training](images/dcgan.gif)"
   ]
  },
  {
   "cell_type": "markdown",
   "metadata": {},
   "source": [
    "## Example using MNIST "
   ]
  },
  {
   "cell_type": "markdown",
   "metadata": {},
   "source": [
    "We're going to implement a deep convolutional generative adversarial network (DCGAN) to generate images that mimick the MNIST dataset.  [Reference here](https://arxiv.org/abs/1511.06434)  \n",
    "  "
   ]
  },
  {
   "cell_type": "code",
   "execution_count": 1,
   "metadata": {},
   "outputs": [],
   "source": [
    "import time \n",
    "import os \n",
    "import numpy as np\n",
    "import matplotlib.pyplot as plt \n",
    "\n",
    "import tensorflow as tf \n",
    "from tensorflow.keras import layers \n",
    "\n",
    "from PIL import Image \n",
    "from IPython import display\n",
    "\n"
   ]
  },
  {
   "cell_type": "markdown",
   "metadata": {},
   "source": [
    "### Import MNIST data and preprocess"
   ]
  },
  {
   "cell_type": "code",
   "execution_count": 2,
   "metadata": {},
   "outputs": [],
   "source": [
    "# Import data using tf interface\n",
    "(train_images, train_labels), (_, _) = tf.keras.datasets.mnist.load_data()\n",
    "\n",
    "# Image preprocessing \n",
    "train_images = train_images.reshape(train_images.shape[0], 28, 28, 1).astype('float32')\n",
    "train_images = (train_images - 127.5) / 127.5 # Normalize the images to [-1, 1]\n"
   ]
  },
  {
   "cell_type": "code",
   "execution_count": 3,
   "metadata": {},
   "outputs": [],
   "source": [
    "BUFFER_SIZE = 60000\n",
    "BATCH_SIZE = 128"
   ]
  },
  {
   "cell_type": "code",
   "execution_count": 4,
   "metadata": {},
   "outputs": [],
   "source": [
    "# Prepare tf dataset object \n",
    "train_dataset = tf.data.Dataset.from_tensor_slices(train_images).shuffle(BUFFER_SIZE).batch(BATCH_SIZE)"
   ]
  },
  {
   "cell_type": "markdown",
   "metadata": {},
   "source": [
    "### Design models\n",
    "\n",
    "#### Generator \n",
    "\n",
    "The generator takes noise as input (100 random floats) and outputs a 28x28x1 pixel image.   \n",
    "\n",
    "This generator will use a `Conv2DTranspose` layer, sometimes called Deconvolution.  These are used when you want to transform a volume in the opposite direction to the normal convolution operation (up-sample instead of down-sample).  \n",
    "\n",
    "More info [here](https://www.machinecurve.com/index.php/2019/09/29/understanding-transposed-convolutions/) \n"
   ]
  },
  {
   "cell_type": "code",
   "execution_count": 5,
   "metadata": {},
   "outputs": [],
   "source": [
    "generator = tf.keras.Sequential()\n",
    "generator.add(layers.Dense(7*7*256, use_bias=False, input_shape=(100,)))\n",
    "generator.add(layers.BatchNormalization())\n",
    "generator.add(layers.LeakyReLU())\n",
    "\n",
    "generator.add(layers.Reshape((7, 7, 256)))\n",
    "assert generator.output_shape == (None, 7, 7, 256)  # Note: None is the batch size\n",
    "\n",
    "generator.add(layers.Conv2DTranspose(128, (5, 5), strides=(1, 1), padding='same', use_bias=False))\n",
    "assert generator.output_shape == (None, 7, 7, 128)\n",
    "generator.add(layers.BatchNormalization())\n",
    "generator.add(layers.LeakyReLU())\n",
    "\n",
    "generator.add(layers.Conv2DTranspose(64, (5, 5), strides=(2, 2), padding='same', use_bias=False))\n",
    "assert generator.output_shape == (None, 14, 14, 64)\n",
    "generator.add(layers.BatchNormalization())\n",
    "generator.add(layers.LeakyReLU())\n",
    "\n",
    "generator.add(layers.Conv2DTranspose(1, (5, 5), strides=(2, 2), padding='same', use_bias=False, activation='tanh'))\n",
    "assert generator.output_shape == (None, 28, 28, 1)"
   ]
  },
  {
   "cell_type": "code",
   "execution_count": 6,
   "metadata": {},
   "outputs": [
    {
     "name": "stdout",
     "output_type": "stream",
     "text": [
      "Model: \"sequential\"\n",
      "_________________________________________________________________\n",
      "Layer (type)                 Output Shape              Param #   \n",
      "=================================================================\n",
      "dense (Dense)                (None, 12544)             1254400   \n",
      "_________________________________________________________________\n",
      "batch_normalization (BatchNo (None, 12544)             50176     \n",
      "_________________________________________________________________\n",
      "leaky_re_lu (LeakyReLU)      (None, 12544)             0         \n",
      "_________________________________________________________________\n",
      "reshape (Reshape)            (None, 7, 7, 256)         0         \n",
      "_________________________________________________________________\n",
      "conv2d_transpose (Conv2DTran (None, 7, 7, 128)         819200    \n",
      "_________________________________________________________________\n",
      "batch_normalization_1 (Batch (None, 7, 7, 128)         512       \n",
      "_________________________________________________________________\n",
      "leaky_re_lu_1 (LeakyReLU)    (None, 7, 7, 128)         0         \n",
      "_________________________________________________________________\n",
      "conv2d_transpose_1 (Conv2DTr (None, 14, 14, 64)        204800    \n",
      "_________________________________________________________________\n",
      "batch_normalization_2 (Batch (None, 14, 14, 64)        256       \n",
      "_________________________________________________________________\n",
      "leaky_re_lu_2 (LeakyReLU)    (None, 14, 14, 64)        0         \n",
      "_________________________________________________________________\n",
      "conv2d_transpose_2 (Conv2DTr (None, 28, 28, 1)         1600      \n",
      "=================================================================\n",
      "Total params: 2,330,944\n",
      "Trainable params: 2,305,472\n",
      "Non-trainable params: 25,472\n",
      "_________________________________________________________________\n"
     ]
    }
   ],
   "source": [
    "generator.summary()"
   ]
  },
  {
   "cell_type": "code",
   "execution_count": 7,
   "metadata": {
    "scrolled": true
   },
   "outputs": [
    {
     "data": {
      "image/png": "[encoded data removed]",
      "text/plain": [
       "<Figure size 432x288 with 1 Axes>"
      ]
     },
     "metadata": {
      "needs_background": "light"
     },
     "output_type": "display_data"
    }
   ],
   "source": [
    "noise = tf.random.normal([1, 100])\n",
    "generated_image = generator(noise, training=False)\n",
    "\n",
    "plt.imshow(generated_image[0, :, :, 0]) \n",
    "plt.title('Output of generator at step 0');"
   ]
  },
  {
   "cell_type": "markdown",
   "metadata": {},
   "source": [
    "#### Discriminator\n",
    "\n",
    "The discriminator is a typical convolutional network image classifier.  It will take a 28x28x1 image as input and output a logit representing a classification.   "
   ]
  },
  {
   "cell_type": "code",
   "execution_count": 8,
   "metadata": {},
   "outputs": [],
   "source": [
    "discriminator = tf.keras.Sequential()\n",
    "discriminator.add(layers.Conv2D(64, (5, 5), strides=(2, 2), padding='same',\n",
    "                                 input_shape=[28, 28, 1]))\n",
    "discriminator.add(layers.LeakyReLU())\n",
    "discriminator.add(layers.Dropout(0.3))\n",
    "\n",
    "discriminator.add(layers.Conv2D(128, (5, 5), strides=(2, 2), padding='same'))\n",
    "discriminator.add(layers.LeakyReLU())\n",
    "discriminator.add(layers.Dropout(0.3))\n",
    "\n",
    "discriminator.add(layers.Flatten())\n",
    "discriminator.add(layers.Dense(1))"
   ]
  },
  {
   "cell_type": "code",
   "execution_count": 9,
   "metadata": {},
   "outputs": [
    {
     "name": "stdout",
     "output_type": "stream",
     "text": [
      "Model: \"sequential_1\"\n",
      "_________________________________________________________________\n",
      "Layer (type)                 Output Shape              Param #   \n",
      "=================================================================\n",
      "conv2d (Conv2D)              (None, 14, 14, 64)        1664      \n",
      "_________________________________________________________________\n",
      "leaky_re_lu_3 (LeakyReLU)    (None, 14, 14, 64)        0         \n",
      "_________________________________________________________________\n",
      "dropout (Dropout)            (None, 14, 14, 64)        0         \n",
      "_________________________________________________________________\n",
      "conv2d_1 (Conv2D)            (None, 7, 7, 128)         204928    \n",
      "_________________________________________________________________\n",
      "leaky_re_lu_4 (LeakyReLU)    (None, 7, 7, 128)         0         \n",
      "_________________________________________________________________\n",
      "dropout_1 (Dropout)          (None, 7, 7, 128)         0         \n",
      "_________________________________________________________________\n",
      "flatten (Flatten)            (None, 6272)              0         \n",
      "_________________________________________________________________\n",
      "dense_1 (Dense)              (None, 1)                 6273      \n",
      "=================================================================\n",
      "Total params: 212,865\n",
      "Trainable params: 212,865\n",
      "Non-trainable params: 0\n",
      "_________________________________________________________________\n"
     ]
    }
   ],
   "source": [
    "discriminator.summary()"
   ]
  },
  {
   "cell_type": "code",
   "execution_count": 10,
   "metadata": {},
   "outputs": [
    {
     "name": "stdout",
     "output_type": "stream",
     "text": [
      "tf.Tensor([[-0.00075138]], shape=(1, 1), dtype=float32)\n"
     ]
    }
   ],
   "source": [
    "decision = discriminator(generated_image) \n",
    "print(decision)"
   ]
  },
  {
   "cell_type": "code",
   "execution_count": null,
   "metadata": {},
   "outputs": [],
   "source": []
  },
  {
   "cell_type": "markdown",
   "metadata": {},
   "source": [
    "### Setup models      "
   ]
  },
  {
   "cell_type": "code",
   "execution_count": 11,
   "metadata": {},
   "outputs": [],
   "source": [
    "cross_entropy = tf.keras.losses.BinaryCrossentropy(from_logits=True)  "
   ]
  },
  {
   "cell_type": "markdown",
   "metadata": {},
   "source": [
    "#### Discriminator Loss"
   ]
  },
  {
   "cell_type": "code",
   "execution_count": 12,
   "metadata": {},
   "outputs": [],
   "source": [
    "def discriminator_loss(real, fake): \n",
    "    \"\"\" Calculates discriminator model's loss \n",
    "    \n",
    "    The discriminator distingushes between real and fake images      \n",
    "    \"\"\"\n",
    "    real_loss = cross_entropy(tf.ones_like(real), real)   \n",
    "    fake_loss = cross_entropy(tf.zeros_like(fake), fake)   \n",
    "    total_loss = real_loss + fake_loss \n",
    "    \n",
    "    return total_loss "
   ]
  },
  {
   "cell_type": "markdown",
   "metadata": {},
   "source": [
    "#### Generator Loss "
   ]
  },
  {
   "cell_type": "code",
   "execution_count": 13,
   "metadata": {},
   "outputs": [],
   "source": [
    "def generator_loss(discrim_decision): \n",
    "    \"\"\" Calculates generator model's loss\n",
    "    \n",
    "    The generator's loss quantifies how well it was able to trick the discriminator.  \n",
    "    We will compare the discriminator's decisions on the generated images to an array of ones\n",
    "    \"\"\"\n",
    "    \n",
    "    return cross_entropy(tf.ones_like(discrim_decision), discrim_decision)"
   ]
  },
  {
   "cell_type": "markdown",
   "metadata": {},
   "source": [
    "#### Optimizers \n",
    "It is very important for the generator and discriminator to train at similar rates so that one does not overpower the other.  "
   ]
  },
  {
   "cell_type": "code",
   "execution_count": 14,
   "metadata": {},
   "outputs": [],
   "source": [
    "generator_optimizer = tf.keras.optimizers.Adam(1e-4)\n",
    "discriminator_optimizer = tf.keras.optimizers.Adam(1e-4)\n",
    "          "
   ]
  },
  {
   "cell_type": "markdown",
   "metadata": {},
   "source": [
    "Define model checkpoints "
   ]
  },
  {
   "cell_type": "code",
   "execution_count": 15,
   "metadata": {},
   "outputs": [],
   "source": [
    "checkpoint_dir = './training_checkpoints'\n",
    "checkpoint_prefix = os.path.join(checkpoint_dir, \"ckpt\")\n",
    "checkpoint = tf.train.Checkpoint(generator_optimizer=generator_optimizer,\n",
    "                                 discriminator_optimizer=discriminator_optimizer,\n",
    "                                 generator=generator,\n",
    "                                 discriminator=discriminator)\n"
   ]
  },
  {
   "cell_type": "markdown",
   "metadata": {},
   "source": [
    "### Training loop "
   ]
  },
  {
   "cell_type": "code",
   "execution_count": 16,
   "metadata": {},
   "outputs": [],
   "source": [
    "noise_dim = 100\n",
    "num_examples_to_generate = 16\n",
    "\n",
    "# We will reuse this seed overtime (so it's easier)\n",
    "# to visualize progress in the animated GIF)\n",
    "seed = tf.random.normal([num_examples_to_generate, noise_dim])\n"
   ]
  },
  {
   "cell_type": "code",
   "execution_count": 17,
   "metadata": {},
   "outputs": [],
   "source": [
    "# The @tf.function decorate tells Python to run some tf code before running this function.\n",
    "#  That tf code \"compiles\" the function for performance increase  \n",
    "\n",
    "@tf.function  \n",
    "def train_step(images): \n",
    "    \"\"\" Conduct one step of training (forward pass and backwards pass on one batch)\n",
    "    \"\"\"  \n",
    "    \n",
    "    # random noise to feed into generator\n",
    "    noise = tf.random.normal([BATCH_SIZE, noise_dim])\n",
    "    \n",
    "    # Tape operations of the generator and discriminator \n",
    "    with tf.GradientTape() as gen_tape, tf.GradientTape() as disc_tape: \n",
    "        generated_images = generator(noise, training=True)  \n",
    "        \n",
    "        real_output = discriminator(images, training=True)  \n",
    "        fake_output = discriminator(generated_images, training=True)\n",
    "        \n",
    "        gen_loss = generator_loss(discrim_decision=fake_output) \n",
    "        disc_loss = discriminator_loss(real_output, fake_output)  \n",
    "        \n",
    "    # Compute gradients \n",
    "    generator_grads = gen_tape.gradient(gen_loss, generator.trainable_variables)\n",
    "    discriminator_grads = disc_tape.gradient(disc_loss, discriminator.trainable_variables)  \n",
    "\n",
    "    \n",
    "    # Apply optimizer \n",
    "    generator_optimizer.apply_gradients(zip(generator_grads, generator.trainable_variables))\n",
    "    discriminator_optimizer.apply_gradients(zip(discriminator_grads, discriminator.trainable_variables))\n",
    "\n",
    "    \n",
    "    "
   ]
  },
  {
   "cell_type": "markdown",
   "metadata": {},
   "source": [
    "[GradientTape](https://www.tensorflow.org/api_docs/python/tf/GradientTape) is a context manager that records operations and watches trainable variables.  The goal is to construct a computation graph in order to compute gradients.   "
   ]
  },
  {
   "cell_type": "code",
   "execution_count": 18,
   "metadata": {},
   "outputs": [],
   "source": [
    "def train(dataset, epochs): \n",
    "    \"\"\"\n",
    "    \"\"\"\n",
    "    \n",
    "    for epoch in range(epochs): \n",
    "        # tic \n",
    "        start = time.time()\n",
    "        \n",
    "        \n",
    "        for image_batch in dataset:\n",
    "            # Apply one step of training on the GAN \n",
    "            train_step(image_batch)\n",
    "            \n",
    "            \n",
    "        # Produce images to compile into a GIF  \n",
    "        display.clear_output(wait=True)\n",
    "        generate_and_save_images(generator, epoch + 1, seed)\n",
    "        \n",
    "        # Save the model every 15 epochs  \n",
    "        if (epoch + 1) % 15 == 0: \n",
    "            checkpoint.save(checkpoint_prefix)\n",
    "            \n",
    "        # toc \n",
    "        print(\"Time for epoch {} is {} seconds.\".format(epoch + 1, time.time()-start))\n",
    "\n",
    "    \n",
    "    display.clear_output(wait=True) \n",
    "    generate_and_save_images(generator, epochs, seed)"
   ]
  },
  {
   "cell_type": "markdown",
   "metadata": {},
   "source": [
    "Function for saving generated images "
   ]
  },
  {
   "cell_type": "code",
   "execution_count": 19,
   "metadata": {},
   "outputs": [],
   "source": [
    "def generate_and_save_images(model, epoch, test_input):\n",
    "    # Notice `training` is set to False.\n",
    "    # This is so all layers run in inference mode (batchnorm).\n",
    "    predictions = model(test_input, training=False)\n",
    "\n",
    "    fig = plt.figure(figsize=(4,4))\n",
    "\n",
    "    for i in range(predictions.shape[0]):\n",
    "        plt.subplot(4, 4, i+1)\n",
    "        plt.imshow(predictions[i, :, :, 0] * 127.5 + 127.5, cmap='gray')\n",
    "        plt.axis('off')\n",
    "\n",
    "    plt.savefig('image_at_epoch_{:04d}.png'.format(epoch))\n",
    "    plt.show()\n",
    "\n",
    "    "
   ]
  },
  {
   "cell_type": "markdown",
   "metadata": {},
   "source": [
    "### Train the model"
   ]
  },
  {
   "cell_type": "code",
   "execution_count": 20,
   "metadata": {
    "scrolled": true
   },
   "outputs": [
    {
     "data": {
      "image/png": "[encoded data removed]",
      "text/plain": [
       "<Figure size 288x288 with 16 Axes>"
      ]
     },
     "metadata": {
      "needs_background": "light"
     },
     "output_type": "display_data"
    }
   ],
   "source": [
    "EPOCHS = 50  \n",
    "train(train_dataset, EPOCHS)  "
   ]
  },
  {
   "cell_type": "code",
   "execution_count": null,
   "metadata": {},
   "outputs": [],
   "source": []
  },
  {
   "cell_type": "code",
   "execution_count": null,
   "metadata": {},
   "outputs": [],
   "source": []
  },
  {
   "cell_type": "code",
   "execution_count": null,
   "metadata": {},
   "outputs": [],
   "source": []
  },
  {
   "cell_type": "markdown",
   "metadata": {},
   "source": [
    "# References  \n",
    "\n",
    "+ https://arxiv.org/abs/1406.2661\n",
    "+ https://www.tensorflow.org/tutorials/generative/dcgan\n",
    "+ https://arxiv.org/pdf/1701.00160.pdf"
   ]
  },
  {
   "cell_type": "code",
   "execution_count": null,
   "metadata": {},
   "outputs": [],
   "source": []
  }
 ],
 "metadata": {
  "kernelspec": {
   "display_name": "Python 3",
   "language": "python",
   "name": "python3"
  },
  "language_info": {
   "codemirror_mode": {
    "name": "ipython",
    "version": 3
   },
   "file_extension": ".py",
   "mimetype": "text/x-python",
   "name": "python",
   "nbconvert_exporter": "python",
   "pygments_lexer": "ipython3",
   "version": "3.7.6"
  }
 },
 "nbformat": 4,
 "nbformat_minor": 4
}
